{
 "cells": [
  {
   "cell_type": "code",
   "execution_count": 57,
   "id": "e5bd6ff9-c09f-4d14-8005-e4fc39c4771a",
   "metadata": {},
   "outputs": [],
   "source": [
    "#importing necessary libraries\n",
    "import pandas as pd\n",
    "import numpy as np\n",
    "import seaborn as sns\n",
    "from sklearn.neighbors import KNeighborsRegressor\n",
    "\n",
    "pd.set_option('display.max_columns',None)\n",
    "pd.set_option('display.max_rows',None)"
   ]
  },
  {
   "cell_type": "code",
   "execution_count": 58,
   "id": "eb189e97-e8a3-453f-a0b9-b9840a3b28cb",
   "metadata": {
    "scrolled": true
   },
   "outputs": [],
   "source": [
    "#load the dataframe\n",
    "train_data = pd.read_csv('train.csv')\n",
    "test_data = pd.read_csv('test.csv')\n",
    "sample_submission = pd.read_csv('sample_submission.csv')\n"
   ]
  },
  {
   "cell_type": "code",
   "execution_count": 59,
   "id": "ca5f6ed5",
   "metadata": {},
   "outputs": [],
   "source": [
    "#drop unnecessary culumns\n",
    "target_train = train_data['SalePrice']\n",
    "train1 = train_data.drop(['Id','SalePrice'],axis=1)\n",
    "test1 = test_data.drop(['Id'],axis=1)\n",
    "\n",
    "#combine train and test datasets to impute missng values at once\n",
    "#axis = 0(append the rows), 1(append to the columns)\n",
    "\n",
    "all_data = pd.concat([train1,test1], axis=0)\n",
    "all_data['MSSubClass'] =  all_data['MSSubClass'].astype(str)"
   ]
  },
  {
   "cell_type": "code",
   "execution_count": 60,
   "id": "4389c04d",
   "metadata": {
    "scrolled": false
   },
   "outputs": [
    {
     "data": {
      "text/plain": [
       "Index(['MSZoning', 'Alley', 'Utilities', 'Exterior1st', 'Exterior2nd',\n",
       "       'MasVnrType', 'BsmtQual', 'BsmtCond', 'BsmtExposure', 'BsmtFinType1',\n",
       "       'BsmtFinType2', 'Electrical', 'KitchenQual', 'Functional',\n",
       "       'FireplaceQu', 'GarageType', 'GarageFinish', 'GarageQual', 'GarageCond',\n",
       "       'PoolQC', 'Fence', 'MiscFeature', 'SaleType'],\n",
       "      dtype='object')"
      ]
     },
     "execution_count": 60,
     "metadata": {},
     "output_type": "execute_result"
    }
   ],
   "source": [
    "#all_data.select_dtypes(np.number) ----see columns with nuerical data\n",
    "all_data.select_dtypes('object').loc[:,all_data.isnull().sum()>0].columns   #cat-columns with NaN "
   ]
  },
  {
   "cell_type": "code",
   "execution_count": 61,
   "id": "33b75bdf",
   "metadata": {},
   "outputs": [],
   "source": [
    "all_data2 = all_data.copy()\n",
    "#cat_col1 - NA means a feature,  cat_col2---Na -truly missing\n",
    "cat_col1 = ['Alley', 'BsmtQual', 'BsmtCond', 'BsmtExposure','BsmtFinType1', 'BsmtFinType2', 'FireplaceQu', 'GarageType','GarageFinish', 'GarageQual','GarageCond','PoolQC',\n",
    "       'Fence','MiscFeature']\n",
    "cat_col2 = ['MSZoning','Utilities','Exterior1st', 'Exterior2nd', 'MasVnrType','Electrical', 'KitchenQual','Functional','SaleType'] \n",
    "for columns in cat_col1:\n",
    "    all_data2[columns] = all_data2[columns].fillna('None')\n",
    "for columns in cat_col2:\n",
    "    all_data2[columns] = all_data2[columns].fillna(all_data2[columns].mode()[0])\n"
   ]
  },
  {
   "cell_type": "markdown",
   "id": "34bd6ef1",
   "metadata": {},
   "source": [
    "<strong> df['feature1'].mode(): The .mode() function is used to calculate the mode (most frequent value) of the 'feature1' column. It returns a pandas Series object containing the mode(s). [0]: The [0] index is used to access the first (or only) element of the mode Series. Since the mode function returns the mode(s) in descending order, [0] selects the most frequent value. <strong>Because<strong/>\n",
    "\n",
    "<strong>Because<strong/>"
   ]
  },
  {
   "cell_type": "code",
   "execution_count": 62,
   "id": "e3d83178",
   "metadata": {},
   "outputs": [
    {
     "data": {
      "text/plain": [
       "0    RL\n",
       "Name: MSZoning, dtype: object"
      ]
     },
     "execution_count": 62,
     "metadata": {},
     "output_type": "execute_result"
    }
   ],
   "source": [
    "all_data2['MSZoning'].mode()"
   ]
  },
  {
   "cell_type": "code",
   "execution_count": 68,
   "id": "be9ea07e",
   "metadata": {},
   "outputs": [],
   "source": [
    "##imputing missing numeric values##\n",
    "\n",
    "def Knn_Imputer(all_data2,na_target):\n",
    "    all_data2=all_data2.copy()\n",
    "    num_df = all_data2.select_dtypes(np.number)\n",
    "    avail_col = num_df.loc[:,num_df.isnull().sum()==0].columns\n",
    "\n",
    "    x_train = num_df.loc[num_df[na_target].isnull()== False, avail_col]\n",
    "    y_train = num_df.loc[num_df[na_target].isnull()== False, na_target]\n",
    "    x_test =num_df.loc[num_df[na_target].isnull()== True,avail_col]\n",
    "    \n",
    "    knn = KNeighborsRegressor()\n",
    "    knn.fit(x_train,y_train)\n",
    "    y_pred = knn.predict(x_test)\n",
    "    \n",
    "    all_data2.loc[all_data2[na_target].isnull()==True  , na_target] = y_pred\n",
    "    \n",
    "    return all_data2\n",
    "\n",
    "\n"
   ]
  },
  {
   "cell_type": "code",
   "execution_count": 69,
   "id": "c45d1501",
   "metadata": {},
   "outputs": [
    {
     "data": {
      "text/plain": [
       "Index(['LotFrontage', 'MasVnrArea', 'BsmtFinSF1', 'BsmtFinSF2', 'BsmtUnfSF',\n",
       "       'TotalBsmtSF', 'BsmtFullBath', 'BsmtHalfBath', 'GarageYrBlt',\n",
       "       'GarageCars', 'GarageArea'],\n",
       "      dtype='object')"
      ]
     },
     "execution_count": 69,
     "metadata": {},
     "output_type": "execute_result"
    }
   ],
   "source": [
    "all_data2.columns[all_data2.isnull().sum() > 0]"
   ]
  },
  {
   "cell_type": "code",
   "execution_count": 70,
   "id": "20800a44",
   "metadata": {},
   "outputs": [],
   "source": [
    "for na_col in ['LotFrontage', 'MasVnrArea', 'BsmtFinSF1', 'BsmtFinSF2', 'BsmtUnfSF',\n",
    "       'TotalBsmtSF', 'BsmtFullBath', 'BsmtHalfBath', 'GarageYrBlt',\n",
    "       'GarageCars', 'GarageArea']:\n",
    "    all_data2 = Knn_Imputer(all_data2,na_col)"
   ]
  },
  {
   "cell_type": "code",
   "execution_count": 71,
   "id": "f42f2e41",
   "metadata": {},
   "outputs": [
    {
     "data": {
      "text/plain": [
       "MSSubClass       0\n",
       "MSZoning         0\n",
       "LotFrontage      0\n",
       "LotArea          0\n",
       "Street           0\n",
       "Alley            0\n",
       "LotShape         0\n",
       "LandContour      0\n",
       "Utilities        0\n",
       "LotConfig        0\n",
       "LandSlope        0\n",
       "Neighborhood     0\n",
       "Condition1       0\n",
       "Condition2       0\n",
       "BldgType         0\n",
       "HouseStyle       0\n",
       "OverallQual      0\n",
       "OverallCond      0\n",
       "YearBuilt        0\n",
       "YearRemodAdd     0\n",
       "RoofStyle        0\n",
       "RoofMatl         0\n",
       "Exterior1st      0\n",
       "Exterior2nd      0\n",
       "MasVnrType       0\n",
       "MasVnrArea       0\n",
       "ExterQual        0\n",
       "ExterCond        0\n",
       "Foundation       0\n",
       "BsmtQual         0\n",
       "BsmtCond         0\n",
       "BsmtExposure     0\n",
       "BsmtFinType1     0\n",
       "BsmtFinSF1       0\n",
       "BsmtFinType2     0\n",
       "BsmtFinSF2       0\n",
       "BsmtUnfSF        0\n",
       "TotalBsmtSF      0\n",
       "Heating          0\n",
       "HeatingQC        0\n",
       "CentralAir       0\n",
       "Electrical       0\n",
       "1stFlrSF         0\n",
       "2ndFlrSF         0\n",
       "LowQualFinSF     0\n",
       "GrLivArea        0\n",
       "BsmtFullBath     0\n",
       "BsmtHalfBath     0\n",
       "FullBath         0\n",
       "HalfBath         0\n",
       "BedroomAbvGr     0\n",
       "KitchenAbvGr     0\n",
       "KitchenQual      0\n",
       "TotRmsAbvGrd     0\n",
       "Functional       0\n",
       "Fireplaces       0\n",
       "FireplaceQu      0\n",
       "GarageType       0\n",
       "GarageYrBlt      0\n",
       "GarageFinish     0\n",
       "GarageCars       0\n",
       "GarageArea       0\n",
       "GarageQual       0\n",
       "GarageCond       0\n",
       "PavedDrive       0\n",
       "WoodDeckSF       0\n",
       "OpenPorchSF      0\n",
       "EnclosedPorch    0\n",
       "3SsnPorch        0\n",
       "ScreenPorch      0\n",
       "PoolArea         0\n",
       "PoolQC           0\n",
       "Fence            0\n",
       "MiscFeature      0\n",
       "MiscVal          0\n",
       "MoSold           0\n",
       "YrSold           0\n",
       "SaleType         0\n",
       "SaleCondition    0\n",
       "dtype: int64"
      ]
     },
     "execution_count": 71,
     "metadata": {},
     "output_type": "execute_result"
    }
   ],
   "source": [
    "all_data2.isna().sum()"
   ]
  },
  {
   "cell_type": "code",
   "execution_count": 74,
   "id": "5ebd812b",
   "metadata": {},
   "outputs": [],
   "source": [
    "clean_data = all_data2.copy"
   ]
  },
  {
   "cell_type": "code",
   "execution_count": null,
   "id": "43500acb",
   "metadata": {},
   "outputs": [],
   "source": [
    "\n"
   ]
  },
  {
   "cell_type": "code",
   "execution_count": null,
   "id": "1a3fe250",
   "metadata": {},
   "outputs": [],
   "source": []
  }
 ],
 "metadata": {
  "kernelspec": {
   "display_name": "Python 3 (ipykernel)",
   "language": "python",
   "name": "python3"
  },
  "language_info": {
   "codemirror_mode": {
    "name": "ipython",
    "version": 3
   },
   "file_extension": ".py",
   "mimetype": "text/x-python",
   "name": "python",
   "nbconvert_exporter": "python",
   "pygments_lexer": "ipython3",
   "version": "3.11.4"
  }
 },
 "nbformat": 4,
 "nbformat_minor": 5
}
